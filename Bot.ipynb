{
 "cells": [
  {
   "cell_type": "markdown",
   "metadata": {},
   "source": [
    "# Grupo 20 - BOT"
   ]
  },
  {
   "cell_type": "code",
   "execution_count": 2,
   "metadata": {},
   "outputs": [
    {
     "name": "stdout",
     "output_type": "stream",
     "text": [
      "\n",
      "Escolha uma das opções abaixo:\n",
      "0 para sair\n",
      "1 para SIM\n",
      "2 para NÃO\n",
      "\n",
      "SQFT LOT menor ou igual que 26747?0\n",
      "\n",
      "Fim.\n",
      "\n"
     ]
    },
    {
     "ename": "SystemExit",
     "evalue": "",
     "output_type": "error",
     "traceback": [
      "An exception has occurred, use %tb to see the full traceback.\n",
      "\u001b[1;31mSystemExit\u001b[0m\n"
     ]
    },
    {
     "name": "stderr",
     "output_type": "stream",
     "text": [
      "C:\\Users\\joao-\\anaconda3\\lib\\site-packages\\IPython\\core\\interactiveshell.py:3351: UserWarning: To exit: use 'exit', 'quit', or Ctrl-D.\n",
      "  warn(\"To exit: use 'exit', 'quit', or Ctrl-D.\", stacklevel=1)\n"
     ]
    }
   ],
   "source": [
    "import pandas as pd\n",
    "import os\n",
    "import sys\n",
    "from IPython.display import clear_output\n",
    "\n",
    "class Tree():\n",
    "    def __init__(self):\n",
    "        pass\n",
    "\n",
    "    def ask_question(self):\n",
    "        return self.question\n",
    "\n",
    "    def check_answer(self,answer):\n",
    "        if answer == self.answerTrue:\n",
    "            return self.leftNode\n",
    "        elif answer == self.answerFalse:\n",
    "            return self.rightNode\n",
    "        else:\n",
    "            return False\n",
    "\n",
    "texto = pd.read_csv(\"arvore.csv\",sep=';',index_col=\"ID\")\n",
    "\n",
    "def rec_build_tree(linha):\n",
    "    row = texto.loc[linha]\n",
    "    if row[\"Pergunta\"] == \"NÓ FOLHA\":\n",
    "        return row[\"A\"]\n",
    "    node = Tree() \n",
    "    node.leftNode = rec_build_tree(int(row[\"Nó A\"]))    \n",
    "    node.rightNode = rec_build_tree(int(row[\"Nó B\"]))\n",
    "    node.question = row[\"Pergunta\"]\n",
    "    node.answerTrue = row[\"A\"]\n",
    "    node.answerFalse = row[\"B\"]\n",
    "    return node\n",
    "\n",
    "def is_obj(obj):\n",
    "    return False if type(obj).__name__ == \"str\" else True\n",
    "\n",
    "counter_tickets = 0\n",
    "while True:\n",
    "    arvore = rec_build_tree(1)\n",
    "    count_erros=0\n",
    "    while True:\n",
    "        if count_erros == 2:\n",
    "            print(\"ERROS SUCESSIVOS\\nVERIFIQUE AS OPÇÕES ANTES DE TENTAR NOVAMENTE\\n\")\n",
    "            print(\"\\nMuitas informações! :/ \\nPor favor me reinicie.\")\n",
    "            break\n",
    "        opcoes = {1:arvore.answerTrue,2:arvore.answerFalse}\n",
    "        print(\"\\nEscolha uma das opções abaixo:\"+\"\\n0 para sair\"+\"\\n1 para \"+opcoes[1]+\"\\n2 para \"+opcoes[2]+\"\\n\")\n",
    "        response = input(arvore.ask_question())\n",
    "        while not response.isnumeric():\n",
    "            if count_erros == 2:\n",
    "                print(\"\\nMuitas informações! :/ \\nPor favor me reinicie.\")\n",
    "                sys.exit()\n",
    "            print(\"\\nMe desculpe, não conheço essa opção, vamos tentar novamente? :)\\n\")\n",
    "            print(\"Escolha uma das opções abaixo:\"+\"\\n0 para sair\"+\"\\n1 para \"+opcoes[1]+\"\\n2 para \"+opcoes[2])\n",
    "            response = input(arvore.ask_question())\n",
    "            count_erros+=1\n",
    "            \n",
    "        if int(response) == 0:\n",
    "            print(\"\\nFim.\\n\")\n",
    "            sys.exit()\n",
    "            \n",
    "        question = opcoes[int(response)]\n",
    "        answer = arvore.check_answer(question)\n",
    "        if answer == False:\n",
    "            print(\"\\nMe desculpe, não conheço essa opção, vamos tentar novamente? :)\")\n",
    "            count_erros+=1\n",
    "        elif not is_obj(answer):\n",
    "            break\n",
    "        else:\n",
    "            arvore = answer \n",
    "        \n",
    "    clear_output(wait=True)\n",
    "    print(answer)\n",
    "    print(\"-------------------------------------\")"
   ]
  }
 ],
 "metadata": {
  "kernelspec": {
   "display_name": "Python 3",
   "language": "python",
   "name": "python3"
  },
  "language_info": {
   "codemirror_mode": {
    "name": "ipython",
    "version": 3
   },
   "file_extension": ".py",
   "mimetype": "text/x-python",
   "name": "python",
   "nbconvert_exporter": "python",
   "pygments_lexer": "ipython3",
   "version": "3.8.3"
  }
 },
 "nbformat": 4,
 "nbformat_minor": 4
}
